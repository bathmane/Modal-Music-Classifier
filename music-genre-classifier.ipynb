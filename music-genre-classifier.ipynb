{
 "cells": [
  {
   "cell_type": "markdown",
   "metadata": {
    "papermill": {
     "duration": 0.017724,
     "end_time": "2021-04-10T06:39:43.278197",
     "exception": false,
     "start_time": "2021-04-10T06:39:43.260473",
     "status": "completed"
    },
    "tags": []
   },
   "source": [
    "Loading the dataset"
   ]
  },
  {
   "cell_type": "code",
   "execution_count": 1,
   "metadata": {
    "_cell_guid": "b1076dfc-b9ad-4769-8c92-a6c4dae69d19",
    "_kg_hide-output": true,
    "_uuid": "8f2839f25d086af736a60e9eeb907d3b93b6e0e5",
    "execution": {
     "iopub.execute_input": "2021-04-10T06:39:43.318316Z",
     "iopub.status.busy": "2021-04-10T06:39:43.317748Z",
     "iopub.status.idle": "2021-04-10T06:39:44.226354Z",
     "shell.execute_reply": "2021-04-10T06:39:44.225286Z"
    },
    "papermill": {
     "duration": 0.931566,
     "end_time": "2021-04-10T06:39:44.226570",
     "exception": false,
     "start_time": "2021-04-10T06:39:43.295004",
     "status": "completed"
    },
    "tags": []
   },
   "outputs": [],
   "source": [
    "\n",
    "\n",
    "import numpy as np # linear algebra\n",
    "import pandas as pd # data processing, CSV file I/O (e.g. pd.read_csv)\n",
    "\n",
    "# copied from UTKARSH GUPT notebook\n",
    "import os\n",
    "for dirname, _, filenames in os.walk('/kaggle/input'):\n",
    "    for filename in filenames:\n",
    "        #print(os.path.join(dirname, filename))\n",
    "        print(filename)\n",
    "# You can write up to 5GB to the current directory (/kaggle/working/) that gets preserved as output when you create a version using \"Save & Run All\" \n",
    "# You can also write temporary files to /kaggle/temp/, but they won't be saved outside of the current session"
   ]
  },
  {
   "cell_type": "markdown",
   "metadata": {
    "papermill": {
     "duration": 0.01809,
     "end_time": "2021-04-10T06:39:44.264668",
     "exception": false,
     "start_time": "2021-04-10T06:39:44.246578",
     "status": "completed"
    },
    "tags": []
   },
   "source": []
  },
  {
   "cell_type": "code",
   "execution_count": null,
   "metadata": {
    "_cell_guid": "79c7e3d0-c299-4dcb-8224-4455121ee9b0",
    "_uuid": "d629ff2d2480ee46fbb7e2d37f6b5fab8052498a",
    "execution": {
     "iopub.execute_input": "2021-04-10T06:39:44.307523Z",
     "iopub.status.busy": "2021-04-10T06:39:44.306619Z",
     "iopub.status.idle": "2021-04-10T06:39:50.915160Z",
     "shell.execute_reply": "2021-04-10T06:39:50.916230Z"
    },
    "papermill": {
     "duration": 6.633202,
     "end_time": "2021-04-10T06:39:50.916435",
     "exception": false,
     "start_time": "2021-04-10T06:39:44.283233",
     "status": "completed"
    },
    "tags": []
   },
   "outputs": [],
   "source": []
  },
  {
   "cell_type": "code",
   "execution_count": null,
   "metadata": {
    "execution": {
     "iopub.execute_input": "2021-04-10T06:39:50.995982Z",
     "iopub.status.busy": "2021-04-10T06:39:50.995410Z",
     "iopub.status.idle": "2021-04-10T06:39:51.156910Z",
     "shell.execute_reply": "2021-04-10T06:39:51.156032Z"
    },
    "papermill": {
     "duration": 0.20465,
     "end_time": "2021-04-10T06:39:51.157070",
     "exception": false,
     "start_time": "2021-04-10T06:39:50.952420",
     "status": "completed"
    },
    "tags": []
   },
   "outputs": [],
   "source": []
  },
  {
   "cell_type": "markdown",
   "metadata": {
    "papermill": {
     "duration": 0.090534,
     "end_time": "2021-04-10T06:39:51.333963",
     "exception": false,
     "start_time": "2021-04-10T06:39:51.243429",
     "status": "completed"
    },
    "tags": []
   },
   "source": []
  },
  {
   "cell_type": "code",
   "execution_count": null,
   "metadata": {
    "execution": {
     "iopub.execute_input": "2021-04-10T06:39:51.507923Z",
     "iopub.status.busy": "2021-04-10T06:39:51.506683Z",
     "iopub.status.idle": "2021-04-10T06:39:51.831386Z",
     "shell.execute_reply": "2021-04-10T06:39:51.830700Z"
    },
    "papermill": {
     "duration": 0.411707,
     "end_time": "2021-04-10T06:39:51.831504",
     "exception": false,
     "start_time": "2021-04-10T06:39:51.419797",
     "status": "completed"
    },
    "tags": []
   },
   "outputs": [],
   "source": []
  },
  {
   "cell_type": "markdown",
   "metadata": {
    "papermill": {
     "duration": 0.050313,
     "end_time": "2021-04-10T06:39:51.933511",
     "exception": false,
     "start_time": "2021-04-10T06:39:51.883198",
     "status": "completed"
    },
    "tags": []
   },
   "source": []
  },
  {
   "cell_type": "markdown",
   "metadata": {
    "papermill": {
     "duration": 0.051939,
     "end_time": "2021-04-10T06:39:52.037155",
     "exception": false,
     "start_time": "2021-04-10T06:39:51.985216",
     "status": "completed"
    },
    "tags": []
   },
   "source": []
  },
  {
   "cell_type": "code",
   "execution_count": null,
   "metadata": {
    "execution": {
     "iopub.execute_input": "2021-04-10T06:39:52.146982Z",
     "iopub.status.busy": "2021-04-10T06:39:52.145137Z",
     "iopub.status.idle": "2021-04-10T06:39:52.147554Z",
     "shell.execute_reply": "2021-04-10T06:39:52.147985Z"
    },
    "papermill": {
     "duration": 0.059563,
     "end_time": "2021-04-10T06:39:52.148118",
     "exception": false,
     "start_time": "2021-04-10T06:39:52.088555",
     "status": "completed"
    },
    "tags": []
   },
   "outputs": [],
   "source": []
  },
  {
   "cell_type": "markdown",
   "metadata": {
    "papermill": {
     "duration": 0.05147,
     "end_time": "2021-04-10T06:39:52.250396",
     "exception": false,
     "start_time": "2021-04-10T06:39:52.198926",
     "status": "completed"
    },
    "tags": []
   },
   "source": []
  },
  {
   "cell_type": "code",
   "execution_count": null,
   "metadata": {
    "execution": {
     "iopub.execute_input": "2021-04-10T06:39:52.367499Z",
     "iopub.status.busy": "2021-04-10T06:39:52.366630Z",
     "iopub.status.idle": "2021-04-10T06:39:52.369613Z",
     "shell.execute_reply": "2021-04-10T06:39:52.369151Z"
    },
    "papermill": {
     "duration": 0.067385,
     "end_time": "2021-04-10T06:39:52.369748",
     "exception": false,
     "start_time": "2021-04-10T06:39:52.302363",
     "status": "completed"
    },
    "tags": []
   },
   "outputs": [],
   "source": []
  },
  {
   "cell_type": "code",
   "execution_count": null,
   "metadata": {
    "_kg_hide-output": true,
    "execution": {
     "iopub.execute_input": "2021-04-10T06:39:52.478394Z",
     "iopub.status.busy": "2021-04-10T06:39:52.477817Z",
     "iopub.status.idle": "2021-04-10T06:48:16.263034Z",
     "shell.execute_reply": "2021-04-10T06:48:16.261970Z"
    },
    "papermill": {
     "duration": 503.84205,
     "end_time": "2021-04-10T06:48:16.263186",
     "exception": false,
     "start_time": "2021-04-10T06:39:52.421136",
     "status": "completed"
    },
    "tags": []
   },
   "outputs": [],
   "source": []
  },
  {
   "cell_type": "code",
   "execution_count": null,
   "metadata": {
    "execution": {
     "iopub.execute_input": "2021-04-10T06:48:17.523559Z",
     "iopub.status.busy": "2021-04-10T06:48:17.522191Z",
     "iopub.status.idle": "2021-04-10T06:48:17.524512Z",
     "shell.execute_reply": "2021-04-10T06:48:17.524084Z"
    },
    "papermill": {
     "duration": 0.621775,
     "end_time": "2021-04-10T06:48:17.524632",
     "exception": false,
     "start_time": "2021-04-10T06:48:16.902857",
     "status": "completed"
    },
    "tags": []
   },
   "outputs": [],
   "source": []
  },
  {
   "cell_type": "code",
   "execution_count": null,
   "metadata": {
    "execution": {
     "iopub.execute_input": "2021-04-10T06:48:18.739347Z",
     "iopub.status.busy": "2021-04-10T06:48:18.738425Z",
     "iopub.status.idle": "2021-04-10T06:48:26.264818Z",
     "shell.execute_reply": "2021-04-10T06:48:26.265384Z"
    },
    "papermill": {
     "duration": 8.139834,
     "end_time": "2021-04-10T06:48:26.265583",
     "exception": false,
     "start_time": "2021-04-10T06:48:18.125749",
     "status": "completed"
    },
    "tags": []
   },
   "outputs": [],
   "source": []
  },
  {
   "cell_type": "code",
   "execution_count": null,
   "metadata": {
    "execution": {
     "iopub.execute_input": "2021-04-10T06:48:27.559668Z",
     "iopub.status.busy": "2021-04-10T06:48:27.557786Z",
     "iopub.status.idle": "2021-04-10T06:48:27.563309Z",
     "shell.execute_reply": "2021-04-10T06:48:27.562795Z"
    },
    "papermill": {
     "duration": 0.618772,
     "end_time": "2021-04-10T06:48:27.563431",
     "exception": false,
     "start_time": "2021-04-10T06:48:26.944659",
     "status": "completed"
    },
    "tags": []
   },
   "outputs": [],
   "source": []
  },
  {
   "cell_type": "markdown",
   "metadata": {
    "papermill": {
     "duration": 0.65601,
     "end_time": "2021-04-10T06:48:28.855008",
     "exception": false,
     "start_time": "2021-04-10T06:48:28.198998",
     "status": "completed"
    },
    "tags": []
   },
   "source": []
  },
  {
   "cell_type": "code",
   "execution_count": null,
   "metadata": {
    "execution": {
     "iopub.execute_input": "2021-04-10T06:48:30.095399Z",
     "iopub.status.busy": "2021-04-10T06:48:30.094517Z",
     "iopub.status.idle": "2021-04-10T06:48:30.099405Z",
     "shell.execute_reply": "2021-04-10T06:48:30.098977Z"
    },
    "papermill": {
     "duration": 0.626917,
     "end_time": "2021-04-10T06:48:30.099512",
     "exception": false,
     "start_time": "2021-04-10T06:48:29.472595",
     "status": "completed"
    },
    "tags": []
   },
   "outputs": [],
   "source": []
  },
  {
   "cell_type": "code",
   "execution_count": null,
   "metadata": {
    "execution": {
     "iopub.execute_input": "2021-04-10T06:48:31.312364Z",
     "iopub.status.busy": "2021-04-10T06:48:31.311455Z",
     "iopub.status.idle": "2021-04-10T06:48:31.316928Z",
     "shell.execute_reply": "2021-04-10T06:48:31.316406Z"
    },
    "papermill": {
     "duration": 0.615188,
     "end_time": "2021-04-10T06:48:31.317059",
     "exception": false,
     "start_time": "2021-04-10T06:48:30.701871",
     "status": "completed"
    },
    "tags": []
   },
   "outputs": [],
   "source": []
  },
  {
   "cell_type": "code",
   "execution_count": null,
   "metadata": {
    "execution": {
     "iopub.execute_input": "2021-04-10T06:48:32.543426Z",
     "iopub.status.busy": "2021-04-10T06:48:32.542514Z",
     "iopub.status.idle": "2021-04-10T06:48:32.558454Z",
     "shell.execute_reply": "2021-04-10T06:48:32.558006Z"
    },
    "papermill": {
     "duration": 0.624474,
     "end_time": "2021-04-10T06:48:32.558567",
     "exception": false,
     "start_time": "2021-04-10T06:48:31.934093",
     "status": "completed"
    },
    "tags": []
   },
   "outputs": [],
   "source": []
  },
  {
   "cell_type": "code",
   "execution_count": null,
   "metadata": {
    "execution": {
     "iopub.execute_input": "2021-04-10T06:48:33.831224Z",
     "iopub.status.busy": "2021-04-10T06:48:33.830168Z",
     "iopub.status.idle": "2021-04-10T06:48:33.836034Z",
     "shell.execute_reply": "2021-04-10T06:48:33.835411Z"
    },
    "papermill": {
     "duration": 0.621325,
     "end_time": "2021-04-10T06:48:33.836175",
     "exception": false,
     "start_time": "2021-04-10T06:48:33.214850",
     "status": "completed"
    },
    "tags": []
   },
   "outputs": [],
   "source": []
  },
  {
   "cell_type": "code",
   "execution_count": null,
   "metadata": {
    "execution": {
     "iopub.execute_input": "2021-04-10T06:48:35.282082Z",
     "iopub.status.busy": "2021-04-10T06:48:35.281042Z",
     "iopub.status.idle": "2021-04-10T06:48:35.284540Z",
     "shell.execute_reply": "2021-04-10T06:48:35.283869Z"
    },
    "papermill": {
     "duration": 0.830206,
     "end_time": "2021-04-10T06:48:35.284777",
     "exception": false,
     "start_time": "2021-04-10T06:48:34.454571",
     "status": "completed"
    },
    "tags": []
   },
   "outputs": [],
   "source": []
  },
  {
   "cell_type": "code",
   "execution_count": null,
   "metadata": {
    "execution": {
     "iopub.execute_input": "2021-04-10T06:48:37.146296Z",
     "iopub.status.busy": "2021-04-10T06:48:37.145019Z",
     "iopub.status.idle": "2021-04-10T06:48:37.171295Z",
     "shell.execute_reply": "2021-04-10T06:48:37.170830Z"
    },
    "papermill": {
     "duration": 1.024563,
     "end_time": "2021-04-10T06:48:37.171424",
     "exception": false,
     "start_time": "2021-04-10T06:48:36.146861",
     "status": "completed"
    },
    "tags": []
   },
   "outputs": [],
   "source": []
  },
  {
   "cell_type": "code",
   "execution_count": null,
   "metadata": {
    "execution": {
     "iopub.execute_input": "2021-04-10T06:48:38.541177Z",
     "iopub.status.busy": "2021-04-10T06:48:38.540311Z",
     "iopub.status.idle": "2021-04-10T06:48:38.637769Z",
     "shell.execute_reply": "2021-04-10T06:48:38.637211Z"
    },
    "papermill": {
     "duration": 0.726434,
     "end_time": "2021-04-10T06:48:38.637892",
     "exception": false,
     "start_time": "2021-04-10T06:48:37.911458",
     "status": "completed"
    },
    "tags": []
   },
   "outputs": [],
   "source": []
  },
  {
   "cell_type": "code",
   "execution_count": null,
   "metadata": {
    "execution": {
     "iopub.execute_input": "2021-04-10T06:48:39.874856Z",
     "iopub.status.busy": "2021-04-10T06:48:39.874252Z",
     "iopub.status.idle": "2021-04-10T06:48:44.401822Z",
     "shell.execute_reply": "2021-04-10T06:48:44.400752Z"
    },
    "papermill": {
     "duration": 5.149138,
     "end_time": "2021-04-10T06:48:44.401969",
     "exception": false,
     "start_time": "2021-04-10T06:48:39.252831",
     "status": "completed"
    },
    "tags": []
   },
   "outputs": [],
   "source": []
  },
  {
   "cell_type": "code",
   "execution_count": null,
   "metadata": {
    "execution": {
     "iopub.execute_input": "2021-04-10T06:48:45.649889Z",
     "iopub.status.busy": "2021-04-10T06:48:45.647165Z",
     "iopub.status.idle": "2021-04-10T06:48:45.655967Z",
     "shell.execute_reply": "2021-04-10T06:48:45.656547Z"
    },
    "papermill": {
     "duration": 0.637067,
     "end_time": "2021-04-10T06:48:45.656737",
     "exception": false,
     "start_time": "2021-04-10T06:48:45.019670",
     "status": "completed"
    },
    "tags": []
   },
   "outputs": [],
   "source": []
  },
  {
   "cell_type": "code",
   "execution_count": null,
   "metadata": {
    "_kg_hide-output": true,
    "execution": {
     "iopub.execute_input": "2021-04-10T06:48:46.883499Z",
     "iopub.status.busy": "2021-04-10T06:48:46.882778Z",
     "iopub.status.idle": "2021-04-10T06:52:59.243413Z",
     "shell.execute_reply": "2021-04-10T06:52:59.242964Z"
    },
    "papermill": {
     "duration": 252.973046,
     "end_time": "2021-04-10T06:52:59.243529",
     "exception": false,
     "start_time": "2021-04-10T06:48:46.270483",
     "status": "completed"
    },
    "tags": []
   },
   "outputs": [],
   "source": []
  },
  {
   "cell_type": "code",
   "execution_count": null,
   "metadata": {
    "execution": {
     "iopub.execute_input": "2021-04-10T06:53:02.771624Z",
     "iopub.status.busy": "2021-04-10T06:53:02.765861Z",
     "iopub.status.idle": "2021-04-10T06:53:03.038874Z",
     "shell.execute_reply": "2021-04-10T06:53:03.039303Z"
    },
    "papermill": {
     "duration": 1.944641,
     "end_time": "2021-04-10T06:53:03.039455",
     "exception": false,
     "start_time": "2021-04-10T06:53:01.094814",
     "status": "completed"
    },
    "tags": []
   },
   "outputs": [],
   "source": []
  },
  {
   "cell_type": "code",
   "execution_count": null,
   "metadata": {
    "papermill": {
     "duration": 1.629641,
     "end_time": "2021-04-10T06:53:06.240971",
     "exception": false,
     "start_time": "2021-04-10T06:53:04.611330",
     "status": "completed"
    },
    "tags": []
   },
   "outputs": [],
   "source": []
  },
  {
   "cell_type": "code",
   "execution_count": null,
   "metadata": {
    "papermill": {
     "duration": 1.577422,
     "end_time": "2021-04-10T06:53:09.407255",
     "exception": false,
     "start_time": "2021-04-10T06:53:07.829833",
     "status": "completed"
    },
    "tags": []
   },
   "outputs": [],
   "source": []
  }
 ],
 "metadata": {
  "kernelspec": {
   "display_name": "Python 3",
   "language": "python",
   "name": "python3"
  },
  "language_info": {
   "codemirror_mode": {
    "name": "ipython",
    "version": 3
   },
   "file_extension": ".py",
   "mimetype": "text/x-python",
   "name": "python",
   "nbconvert_exporter": "python",
   "pygments_lexer": "ipython3",
   "version": "3.7.4"
  },
  "papermill": {
   "default_parameters": {},
   "duration": 815.573738,
   "end_time": "2021-04-10T06:53:13.969348",
   "environment_variables": {},
   "exception": null,
   "input_path": "__notebook__.ipynb",
   "output_path": "__notebook__.ipynb",
   "parameters": {},
   "start_time": "2021-04-10T06:39:38.395610",
   "version": "2.3.2"
  }
 },
 "nbformat": 4,
 "nbformat_minor": 5
}
